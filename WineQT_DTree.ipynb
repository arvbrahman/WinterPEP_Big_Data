{
  "nbformat": 4,
  "nbformat_minor": 0,
  "metadata": {
    "colab": {
      "provenance": []
    },
    "kernelspec": {
      "name": "python3",
      "display_name": "Python 3"
    },
    "language_info": {
      "name": "python"
    }
  },
  "cells": [
    {
      "cell_type": "code",
      "source": [
        "# Required Libraries\n",
        "import pandas as pd\n",
        "import numpy as np\n",
        "from sklearn.model_selection import train_test_split\n",
        "from sklearn.tree import DecisionTreeClassifier\n",
        "from sklearn.metrics import accuracy_score, classification_report\n",
        "from sklearn.preprocessing import StandardScaler\n",
        "import warnings\n",
        "warnings.filterwarnings('ignore')"
      ],
      "metadata": {
        "id": "gTpVRqXZJVIA"
      },
      "execution_count": null,
      "outputs": []
    },
    {
      "cell_type": "code",
      "source": [
        "# Loading the data\n",
        "wine = pd.read_csv('WineQT.csv')\n",
        "\n",
        "X = wine[['fixed acidity','volatile acidity','citric acid','residual sugar']]\n",
        "y = wine['quality']\n",
        "\n",
        "\n",
        "# y = y.map(lambda x: 1 if x > 5 else 0)\n",
        "y = y.apply(lambda x: 1 if x >= 7 else 0)"
      ],
      "metadata": {
        "id": "i4zREON5TAlW"
      },
      "execution_count": null,
      "outputs": []
    },
    {
      "cell_type": "code",
      "source": [
        "# Splitiing the data\n",
        "X_train, X_test, y_train, y_test = train_test_split(X, y, test_size=0.2, random_state=42)\n",
        "\n",
        "\n",
        "# Standard Scaling\n",
        "scaler = StandardScaler()\n",
        "X_train_scaled = scaler.fit_transform(X_train)\n",
        "X_test_scaled = scaler.transform(X_test)\n",
        "\n",
        "# Model fitting\n",
        "clf = DecisionTreeClassifier(random_state=42)\n",
        "clf.fit(X_train_scaled, y_train)\n",
        "\n",
        "# Predicting\n",
        "y_pred = clf.predict(X_test_scaled)\n",
        "\n",
        "# Evaluation\n",
        "accuracy = accuracy_score(y_test, y_pred)\n",
        "print(f'Accuracy: {accuracy:.2f}')\n",
        "print(classification_report(y_test, y_pred))"
      ],
      "metadata": {
        "colab": {
          "base_uri": "https://localhost:8080/"
        },
        "id": "rcXuqO52YQ3F",
        "outputId": "7655512b-2809-46c5-de93-655ddf0814fc"
      },
      "execution_count": null,
      "outputs": [
        {
          "output_type": "stream",
          "name": "stdout",
          "text": [
            "Accuracy: 0.89\n",
            "              precision    recall  f1-score   support\n",
            "\n",
            "           0       0.94      0.93      0.94       201\n",
            "           1       0.53      0.57      0.55        28\n",
            "\n",
            "    accuracy                           0.89       229\n",
            "   macro avg       0.74      0.75      0.74       229\n",
            "weighted avg       0.89      0.89      0.89       229\n",
            "\n"
          ]
        }
      ]
    },
    {
      "cell_type": "code",
      "source": [
        "# Predict on user input\n",
        "def predict_wine_quality(fixed_acidity, volatile_acidity, citric_acid, residual_sugar):\n",
        "  fixed_quality = float(fixed_acidity)\n",
        "  volatile_quality = float(volatile_acidity)\n",
        "  citric_quality = float(citric_acid)\n",
        "  residual_quality = float(residual_sugar)\n",
        "\n",
        "  user_input = np.array([[fixed_quality, volatile_quality, citric_quality, residual_quality]])\n",
        "  user_input_scaled = scaler.transform(user_input)\n",
        "\n",
        "  prediction = clf.predict(user_input_scaled)\n",
        "  quality = 'Good' if prediction[0] == 1 else 'Bad'\n",
        "  print(f\"Predicted quality {quality}\")\n",
        "\n",
        "predict_wine_quality(7.4,0.7,0,1.9)"
      ],
      "metadata": {
        "colab": {
          "base_uri": "https://localhost:8080/"
        },
        "id": "Ua8gY9oUdux1",
        "outputId": "4556998b-3664-498f-c426-af315b5dfc99"
      },
      "execution_count": null,
      "outputs": [
        {
          "output_type": "stream",
          "name": "stdout",
          "text": [
            "Predicted quality Bad\n"
          ]
        }
      ]
    }
  ]
}