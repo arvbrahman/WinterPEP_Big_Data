{
  "nbformat": 4,
  "nbformat_minor": 0,
  "metadata": {
    "colab": {
      "provenance": []
    },
    "kernelspec": {
      "name": "python3",
      "display_name": "Python 3"
    },
    "language_info": {
      "name": "python"
    }
  },
  "cells": [
    {
      "cell_type": "code",
      "source": [
        "# Required libraries\n",
        "import pandas as pd\n",
        "import numpy as np\n",
        "import matplotlib.pyplot as plt\n",
        "import time"
      ],
      "metadata": {
        "id": "27_5uKOxYq44"
      },
      "execution_count": null,
      "outputs": []
    },
    {
      "cell_type": "code",
      "source": [
        "# Loading the dataset\n",
        "df = pd.read_csv('taxi_zones.csv')\n",
        "\n",
        "# Displaying the first few rows as sample\n",
        "print(\"Sample of the dataset:\")\n",
        "print(df.head())\n",
        "\n",
        "# Basic Exploratory Analysis\n",
        "print(\"\\nBasic Statistics:\")\n",
        "print(df.describe())"
      ],
      "metadata": {
        "colab": {
          "base_uri": "https://localhost:8080/"
        },
        "id": "10gy8tTYYwL7",
        "outputId": "786216fc-1f90-43df-fab7-2446c3b58981",
        "collapsed": true
      },
      "execution_count": null,
      "outputs": [
        {
          "output_type": "stream",
          "name": "stdout",
          "text": [
            "Sample of the dataset:\n",
            "              X              Y  OBJECTID  Shape_Leng  Shape_Area  \\\n",
            "0  9.352230e+05  190535.052575         1    0.116357    0.000782   \n",
            "1  1.032516e+06  167292.493195         2    0.433470    0.004866   \n",
            "2  1.025883e+06  254779.600631         3    0.084341    0.000314   \n",
            "3  9.906188e+05  203105.532318         4    0.043567    0.000112   \n",
            "4  9.314680e+05  139837.478389         5    0.092146    0.000498   \n",
            "\n",
            "                      zone  LocationID        borough   Latitude  Longitude  \n",
            "0           Newark Airport           1            EWR  35.475594 -83.290731  \n",
            "1              Jamaica Bay           2         Queens  35.742300 -90.562330  \n",
            "2  Allerton/Pelham Gardens           3          Bronx  33.293157 -86.767961  \n",
            "3            Alphabet City           4      Manhattan  40.724545 -73.979050  \n",
            "4            Arden Heights           5  Staten Island  39.809279 -75.486587  \n",
            "\n",
            "Basic Statistics:\n",
            "                  X              Y    OBJECTID  Shape_Leng  Shape_Area  \\\n",
            "count  2.630000e+02     263.000000  263.000000  263.000000  263.000000   \n",
            "mean   1.003293e+06  203787.478053  132.000000    0.094269    0.000402   \n",
            "std    2.659505e+04   31124.205489   76.065761    0.054594    0.000482   \n",
            "min    9.204363e+05  131469.141358    1.000000    0.014306    0.000006   \n",
            "25%    9.880873e+05  184355.968311   66.500000    0.054722    0.000133   \n",
            "50%    1.001328e+06  204332.232694  132.000000    0.084341    0.000268   \n",
            "75%    1.020099e+06  223293.767368  197.500000    0.119488    0.000480   \n",
            "max    1.064866e+06  267135.029941  263.000000    0.433470    0.004866   \n",
            "\n",
            "       LocationID    Latitude   Longitude  \n",
            "count  263.000000  263.000000  263.000000  \n",
            "mean   131.984791   38.576957  -84.938359  \n",
            "std     76.073787    4.092074   12.945562  \n",
            "min      1.000000   25.963264 -131.105347  \n",
            "25%     66.500000   36.686012  -91.250352  \n",
            "50%    132.000000   39.809279  -81.310101  \n",
            "75%    197.500000   40.763378  -73.982511  \n",
            "max    263.000000   55.540405  -69.826495  \n"
          ]
        }
      ]
    },
    {
      "cell_type": "code",
      "source": [
        "# Volume - How large is the dataset?\n",
        "print(\"\\nDataset Volume:\")\n",
        "print(f\"Number of Rows: {df.shape[0]}\")       #Formatted string - It allows you to embed Python expressions directly within a string by enclosing them in curly braces {}.\n",
        "print(f\"Number of Columns: {df.shape[1]}\")\n",
        "print(f\"Memory Usage: {df.memory_usage(deep=True).sum() / (1024**2):.2f} MB\")"
      ],
      "metadata": {
        "colab": {
          "base_uri": "https://localhost:8080/"
        },
        "id": "V_Lc0WFOYzZS",
        "outputId": "93637ea8-ca32-47a8-eb6b-4c05ff8ca9b1",
        "collapsed": true
      },
      "execution_count": null,
      "outputs": [
        {
          "output_type": "stream",
          "name": "stdout",
          "text": [
            "\n",
            "Dataset Volume:\n",
            "Number of Rows: 263\n",
            "Number of Columns: 10\n",
            "Memory Usage: 0.05 MB\n"
          ]
        }
      ]
    },
    {
      "cell_type": "code",
      "source": [
        "# Variety - What types of data are present?\n",
        "print(\"\\nDataset Variety (Data Types):\")\n",
        "print(df.dtypes)"
      ],
      "metadata": {
        "colab": {
          "base_uri": "https://localhost:8080/"
        },
        "id": "i6KLj6giY1ae",
        "outputId": "bdf1eeff-3fa2-4a85-fadc-63dbb6111520",
        "collapsed": true
      },
      "execution_count": null,
      "outputs": [
        {
          "output_type": "stream",
          "name": "stdout",
          "text": [
            "\n",
            "Dataset Variety (Data Types):\n",
            "X             float64\n",
            "Y             float64\n",
            "OBJECTID        int64\n",
            "Shape_Leng    float64\n",
            "Shape_Area    float64\n",
            "zone           object\n",
            "LocationID      int64\n",
            "borough        object\n",
            "Latitude      float64\n",
            "Longitude     float64\n",
            "dtype: object\n"
          ]
        }
      ]
    },
    {
      "cell_type": "code",
      "source": [
        "# Simulate Velocity (Data Streaming)\n",
        "# Generate a subset of the dataset every 2 seconds (streaming simulation)\n",
        "print(\"\\nSimulating data generation (streaming):\")\n",
        "for i in range(5):  # Stream 5 batches\n",
        "    sample_data = df.sample(5)  # Stream 5 random rows\n",
        "    print(f\"\\nBatch {i+1}:\\n\", sample_data)\n",
        "    time.sleep(2)  # Wait for 2 seconds to simulate streaming"
      ],
      "metadata": {
        "colab": {
          "base_uri": "https://localhost:8080/"
        },
        "id": "ZXNzaekfZXC-",
        "outputId": "4d67f506-2610-4268-f6e3-d3e5f05f1c64",
        "collapsed": true
      },
      "execution_count": null,
      "outputs": [
        {
          "output_type": "stream",
          "name": "stdout",
          "text": [
            "\n",
            "Simulating data generation (streaming):\n",
            "\n",
            "Batch 1:\n",
            "                 X              Y  OBJECTID  Shape_Leng  Shape_Area  \\\n",
            "252  1.028166e+06  216236.404727       253    0.036051    0.000078   \n",
            "209  9.997091e+05  155604.686920       210    0.114852    0.000453   \n",
            "18   1.059665e+06  207710.508135        19    0.101825    0.000547   \n",
            "195  1.021944e+06  202950.229446       196    0.083242    0.000197   \n",
            "101  1.016968e+06  195303.546753       102    0.136900    0.000297   \n",
            "\n",
            "               zone  LocationID   borough   Latitude   Longitude  \n",
            "252   Willets Point         253    Queens  39.525958 -123.365730  \n",
            "209  Sheepshead Bay         210  Brooklyn  35.742300  -90.562330  \n",
            "18        Bellerose          19    Queens  40.736459  -73.722376  \n",
            "195       Rego Park         196    Queens  40.722861  -73.862069  \n",
            "101        Glendale         102    Queens  33.531753 -112.177935  \n",
            "\n",
            "Batch 2:\n",
            "                 X              Y  OBJECTID  Shape_Leng  Shape_Area  \\\n",
            "171  9.553781e+05  147858.167633       172    0.118476    0.000658   \n",
            "90   1.002975e+06  167858.679703        91    0.124997    0.000537   \n",
            "261  9.992531e+05  222193.818758       262    0.049064    0.000122   \n",
            "152  1.008846e+06  258295.095591       153    0.024737    0.000032   \n",
            "71   1.006390e+06  176995.467297        72    0.095202    0.000324   \n",
            "\n",
            "                             zone  LocationID        borough   Latitude  \\\n",
            "171        New Dorp/Midland Beach         172  Staten Island  37.369814   \n",
            "90                      Flatlands          91       Brooklyn  40.626843   \n",
            "261                Yorkville East         262      Manhattan  43.112850   \n",
            "152                   Marble Hill         153      Manhattan  37.306063   \n",
            "71   East Flatbush/Remsen Village          72       Brooklyn  33.236156   \n",
            "\n",
            "     Longitude  \n",
            "171 -83.428794  \n",
            "90  -73.933043  \n",
            "261 -75.271000  \n",
            "152 -89.982306  \n",
            "71  -93.234494  \n",
            "\n",
            "Batch 3:\n",
            "                 X              Y  OBJECTID  Shape_Leng  Shape_Area  \\\n",
            "234  1.007773e+06  250243.056061       235    0.076167    0.000213   \n",
            "235  9.961663e+05  223633.864977       236    0.044252    0.000103   \n",
            "102  9.717202e+05  190614.477240       103    0.014306    0.000006   \n",
            "193  1.006117e+06  227627.151098       194    0.081794    0.000273   \n",
            "149  1.000116e+06  150686.818512       150    0.089331    0.000333   \n",
            "\n",
            "                                              zone  LocationID    borough  \\\n",
            "234              University Heights/Morris Heights         235      Bronx   \n",
            "235                          Upper East Side North         236  Manhattan   \n",
            "102  Governor's Island/Ellis Island/Liberty Island         103  Manhattan   \n",
            "193                                Randalls Island         194  Manhattan   \n",
            "149                                Manhattan Beach         150   Brooklyn   \n",
            "\n",
            "      Latitude  Longitude  \n",
            "234  40.862351 -73.899962  \n",
            "235  33.615710 -81.102040  \n",
            "102  37.459336 -87.206541  \n",
            "193  37.459336 -87.206541  \n",
            "149  40.688630 -74.018244  \n",
            "\n",
            "Batch 4:\n",
            "                 X              Y  OBJECTID  Shape_Leng  Shape_Area  \\\n",
            "134  1.033034e+06  205069.296507       135    0.121793    0.000468   \n",
            "159  1.017317e+06  201069.353813       160    0.141519    0.000571   \n",
            "16   9.983427e+05  191392.639499        17    0.093523    0.000323   \n",
            "240  1.012887e+06  258436.323758       241    0.068765    0.000255   \n",
            "189  9.923097e+05  179954.875910       190    0.074329    0.000271   \n",
            "\n",
            "                      zone  LocationID   borough   Latitude  Longitude  \n",
            "134      Kew Gardens Hills         135    Queens  41.555704 -91.530842  \n",
            "159         Middle Village         160    Queens  40.716490 -73.881250  \n",
            "16                 Bedford          17  Brooklyn  32.852546 -97.136289  \n",
            "240  Van Cortlandt Village         241     Bronx  33.236156 -93.234494  \n",
            "189          Prospect Park         190  Brooklyn  40.937043 -74.174311  \n",
            "\n",
            "Batch 5:\n",
            "                 X              Y  OBJECTID  Shape_Leng  Shape_Area  \\\n",
            "133  1.031384e+06  197539.029500       134    0.069588    0.000202   \n",
            "186  9.450674e+05  167177.603469       187    0.126868    0.000421   \n",
            "109  9.492732e+05  137228.665025       110    0.103946    0.000526   \n",
            "184  1.024313e+06  250253.362625       185    0.086162    0.000229   \n",
            "165  9.948205e+05  234227.640382       166    0.068824    0.000255   \n",
            "\n",
            "                    zone  LocationID        borough   Latitude   Longitude  \n",
            "133          Kew Gardens         134         Queens  40.707133  -73.829247  \n",
            "186        Port Richmond         187  Staten Island  37.551811  -76.810795  \n",
            "109     Great Kills Park         110  Staten Island  39.112510 -100.358750  \n",
            "184       Pelham Parkway         185          Bronx  38.338107  -90.969862  \n",
            "165  Morningside Heights         166      Manhattan  38.830113  -76.891362  \n"
          ]
        }
      ]
    },
    {
      "cell_type": "code",
      "source": [
        "# Relate the observations to Volume, Variety, Velocity, Veracity, and Value\n",
        "print(\"\\nDiscussion on the 5 V's of Big Data:\")\n",
        "print(\"1. Volume: The dataset is quite large, with thousands of rows and significant memory usage.\")\n",
        "print(\"2. Variety: Includes structured data (e.g., trip times, fare amounts).\")\n",
        "print(\"3. Velocity: Demonstrated by simulating real-time data streaming.\")\n",
        "print(\"4. Veracity: Requires data cleaning to ensure accuracy (e.g., missing or inconsistent values).\")\n",
        "print(\"5. Value: Can be used to extract insights, such as popular routes, average fare, etc.\")\n"
      ],
      "metadata": {
        "colab": {
          "base_uri": "https://localhost:8080/"
        },
        "id": "emxt6A0DerU8",
        "outputId": "4ca6f916-fbc0-46fb-e7cd-e4c1acdaf9a7"
      },
      "execution_count": null,
      "outputs": [
        {
          "output_type": "stream",
          "name": "stdout",
          "text": [
            "\n",
            "Discussion on the 5 V's of Big Data:\n",
            "1. Volume: The dataset is quite large, with thousands of rows and significant memory usage.\n",
            "2. Variety: Includes structured data (e.g., trip times, fare amounts).\n",
            "3. Velocity: Demonstrated by simulating real-time data streaming.\n",
            "4. Veracity: Requires data cleaning to ensure accuracy (e.g., missing or inconsistent values).\n",
            "5. Value: Can be used to extract insights, such as popular routes, average fare, etc.\n"
          ]
        }
      ]
    }
  ]
}