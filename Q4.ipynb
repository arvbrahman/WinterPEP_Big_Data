{
  "nbformat": 4,
  "nbformat_minor": 0,
  "metadata": {
    "colab": {
      "provenance": [],
      "collapsed_sections": [
        "8aMBCWsV6gC6",
        "KahRIY-KBbIx"
      ]
    },
    "kernelspec": {
      "name": "python3",
      "display_name": "Python 3"
    },
    "language_info": {
      "name": "python"
    }
  },
  "cells": [
    {
      "cell_type": "code",
      "execution_count": 3,
      "metadata": {
        "id": "WbFLeiug3VJX"
      },
      "outputs": [],
      "source": [
        "import random\n",
        "\n",
        "def generate_numbers_return():\n",
        "    numbers = [random.randint(1, 100) for _ in range(100)]\n",
        "    return numbers\n",
        "\n",
        "def generate_numbers_yield():\n",
        "    for _ in range(100):\n",
        "        yield random.randint(1, 100)"
      ]
    },
    {
      "cell_type": "markdown",
      "source": [
        "Use the above function and store the 100 numbers in a list"
      ],
      "metadata": {
        "id": "Y8ScNWHt6b3R"
      }
    },
    {
      "cell_type": "code",
      "source": [
        "numbers_list_return = generate_numbers_return()\n",
        "numbers_list_yield = list(generate_numbers_yield())\n",
        "\n",
        "print(\"List generated using return:\", numbers_list_return)\n",
        "print(\"List generated using yield:\", numbers_list_yield)"
      ],
      "metadata": {
        "colab": {
          "base_uri": "https://localhost:8080/"
        },
        "collapsed": true,
        "id": "cuOwcPn_33qI",
        "outputId": "fe3c25cf-25c8-4d18-f3f0-719eb6853874"
      },
      "execution_count": 9,
      "outputs": [
        {
          "output_type": "stream",
          "name": "stdout",
          "text": [
            "List generated using return: [25, 17, 86, 83, 19, 58, 60, 2, 14, 16, 54, 30, 19, 44, 51, 17, 54, 8, 45, 76, 80, 39, 29, 61, 68, 15, 86, 82, 90, 85, 58, 45, 76, 94, 62, 88, 4, 26, 53, 72, 6, 2, 27, 89, 48, 58, 87, 27, 100, 75, 10, 53, 10, 73, 96, 24, 34, 15, 78, 24, 9, 66, 84, 92, 55, 97, 41, 63, 11, 64, 88, 72, 54, 31, 47, 60, 10, 9, 96, 23, 91, 72, 83, 63, 30, 82, 1, 88, 41, 37, 70, 36, 95, 65, 38, 27, 41, 75, 33, 68]\n",
            "List generated using yield: [26, 55, 63, 24, 74, 41, 83, 31, 23, 79, 75, 25, 70, 53, 59, 3, 56, 77, 53, 50, 34, 94, 16, 85, 23, 23, 2, 78, 61, 39, 62, 58, 74, 22, 24, 65, 83, 92, 73, 61, 27, 38, 41, 55, 47, 99, 98, 33, 14, 79, 32, 82, 27, 20, 92, 64, 2, 64, 12, 58, 41, 37, 55, 12, 97, 11, 25, 72, 47, 79, 35, 71, 13, 2, 67, 18, 35, 47, 38, 70, 57, 91, 76, 55, 68, 56, 14, 5, 59, 30, 12, 59, 84, 79, 24, 34, 44, 100, 30, 89]\n"
          ]
        }
      ]
    },
    {
      "cell_type": "markdown",
      "source": [
        "#Perform merge sort as usual"
      ],
      "metadata": {
        "id": "8aMBCWsV6gC6"
      }
    },
    {
      "cell_type": "code",
      "source": [
        "def merge(left, right):\n",
        "    result = []\n",
        "    i = j = 0\n",
        "    while i < len(left) and j < len(right):\n",
        "        if left[i] < right[j]:\n",
        "            result.append(left[i])\n",
        "            i += 1\n",
        "        else:\n",
        "            result.append(right[j])\n",
        "            j += 1\n",
        "\n",
        "    result.extend(left[i:])\n",
        "    result.extend(right[j:])\n",
        "\n",
        "    return result\n",
        "\n",
        "def merge_sort(arr):\n",
        "    if len(arr) <= 1:\n",
        "        return arr\n",
        "\n",
        "    mid = len(arr) // 2\n",
        "    left_half = merge_sort(arr[:mid])\n",
        "    right_half = merge_sort(arr[mid:])\n",
        "\n",
        "    return merge(left_half, right_half)"
      ],
      "metadata": {
        "id": "Iz1NibF-6Osq"
      },
      "execution_count": 28,
      "outputs": []
    },
    {
      "cell_type": "code",
      "source": [
        "sorted_return = merge_sort(numbers_list_return)\n",
        "sorted_yield = merge_sort(numbers_list_yield)\n",
        "\n",
        "print(\"Sorted List (using return):\", sorted_return)\n",
        "print(\"Sorted List (using yield):\", sorted_yield)"
      ],
      "metadata": {
        "colab": {
          "base_uri": "https://localhost:8080/"
        },
        "id": "tzFAwXm_6TiF",
        "outputId": "d19c01e0-93cc-49b7-9502-82b25a759c77"
      },
      "execution_count": 29,
      "outputs": [
        {
          "output_type": "stream",
          "name": "stdout",
          "text": [
            "Sorted List (using return): [1, 2, 2, 4, 6, 8, 9, 9, 10, 10, 10, 11, 14, 15, 15, 16, 17, 17, 19, 19, 23, 24, 24, 25, 26, 27, 27, 27, 29, 30, 30, 31, 33, 34, 36, 37, 38, 39, 41, 41, 41, 44, 45, 45, 47, 48, 51, 53, 53, 54, 54, 54, 55, 58, 58, 58, 60, 60, 61, 62, 63, 63, 64, 65, 66, 68, 68, 70, 72, 72, 72, 73, 75, 75, 76, 76, 78, 80, 82, 82, 83, 83, 84, 85, 86, 86, 87, 88, 88, 88, 89, 90, 91, 92, 94, 95, 96, 96, 97, 100]\n",
            "Sorted List (using yield): [2, 2, 2, 3, 5, 11, 12, 12, 12, 13, 14, 14, 16, 18, 20, 22, 23, 23, 23, 24, 24, 24, 25, 25, 26, 27, 27, 30, 30, 31, 32, 33, 34, 34, 35, 35, 37, 38, 38, 39, 41, 41, 41, 44, 47, 47, 47, 50, 53, 53, 55, 55, 55, 55, 56, 56, 57, 58, 58, 59, 59, 59, 61, 61, 62, 63, 64, 64, 65, 67, 68, 70, 70, 71, 72, 73, 74, 74, 75, 76, 77, 78, 79, 79, 79, 79, 82, 83, 83, 84, 85, 89, 91, 92, 92, 94, 97, 98, 99, 100]\n"
          ]
        }
      ]
    },
    {
      "cell_type": "markdown",
      "source": [
        "#Use Batch Processing we did in the above exercises"
      ],
      "metadata": {
        "id": "9dkxKE7U7PEh"
      }
    },
    {
      "cell_type": "code",
      "source": [
        "def batch_processing(arr, batch_size):\n",
        "    batches = [arr[i:i + batch_size] for i in range(0, len(arr), batch_size)]\n",
        "    processed = [sorted(batch) for batch in batches]\n",
        "    final_result = sorted([item for batch in processed for item in batch])\n",
        "    return final_result"
      ],
      "metadata": {
        "id": "wl7AhIo67SD5"
      },
      "execution_count": 26,
      "outputs": []
    },
    {
      "cell_type": "code",
      "source": [
        "batch_size = 10\n",
        "final_batch_return = batch_processing(numbers_list_return, batch_size)\n",
        "final_batch_yield = batch_processing(numbers_list_yield, batch_size)\n",
        "\n",
        "print(\"Final Batch Sorted List (using return):\", final_batch_return)\n",
        "print(\"Final Batch Sorted List (using yield):\", final_batch_yield)"
      ],
      "metadata": {
        "colab": {
          "base_uri": "https://localhost:8080/"
        },
        "id": "kUzhDR9AB0j9",
        "outputId": "84ebf889-527b-4ce0-e5cc-a0b02cc7fec0"
      },
      "execution_count": 27,
      "outputs": [
        {
          "output_type": "stream",
          "name": "stdout",
          "text": [
            "Final Batch Sorted List (using return): [1, 2, 2, 4, 6, 8, 9, 9, 10, 10, 10, 11, 14, 15, 15, 16, 17, 17, 19, 19, 23, 24, 24, 25, 26, 27, 27, 27, 29, 30, 30, 31, 33, 34, 36, 37, 38, 39, 41, 41, 41, 44, 45, 45, 47, 48, 51, 53, 53, 54, 54, 54, 55, 58, 58, 58, 60, 60, 61, 62, 63, 63, 64, 65, 66, 68, 68, 70, 72, 72, 72, 73, 75, 75, 76, 76, 78, 80, 82, 82, 83, 83, 84, 85, 86, 86, 87, 88, 88, 88, 89, 90, 91, 92, 94, 95, 96, 96, 97, 100]\n",
            "Final Batch Sorted List (using yield): [2, 2, 2, 3, 5, 11, 12, 12, 12, 13, 14, 14, 16, 18, 20, 22, 23, 23, 23, 24, 24, 24, 25, 25, 26, 27, 27, 30, 30, 31, 32, 33, 34, 34, 35, 35, 37, 38, 38, 39, 41, 41, 41, 44, 47, 47, 47, 50, 53, 53, 55, 55, 55, 55, 56, 56, 57, 58, 58, 59, 59, 59, 61, 61, 62, 63, 64, 64, 65, 67, 68, 70, 70, 71, 72, 73, 74, 74, 75, 76, 77, 78, 79, 79, 79, 79, 82, 83, 83, 84, 85, 89, 91, 92, 92, 94, 97, 98, 99, 100]\n"
          ]
        }
      ]
    },
    {
      "cell_type": "markdown",
      "source": [
        "#Can you try to attempt MapReduce Paradigm for this ?"
      ],
      "metadata": {
        "id": "KahRIY-KBbIx"
      }
    },
    {
      "cell_type": "code",
      "source": [
        "from collections import Counter\n",
        "def map_reduce_step(arr):\n",
        "    mapped = [(num, 1) for num in arr]\n",
        "\n",
        "    reduced = Counter()\n",
        "    for key, value in mapped:\n",
        "        reduced[key] += value\n",
        "\n",
        "    sorted_numbers = sorted(reduced.keys())\n",
        "\n",
        "    return sorted_numbers\n"
      ],
      "metadata": {
        "id": "uy-bLCQdBcUR"
      },
      "execution_count": 24,
      "outputs": []
    },
    {
      "cell_type": "code",
      "source": [
        "final_sorted_return = map_reduce_step(numbers_list_return)\n",
        "final_sorted_yield = map_reduce_step(numbers_list_yield)\n",
        "\n",
        "print(\"Final Sorted List (using return with MapReduce):\", final_sorted_return)\n",
        "print(\"Final Sorted List (using yield with MapReduce):\", final_sorted_yield)"
      ],
      "metadata": {
        "colab": {
          "base_uri": "https://localhost:8080/"
        },
        "id": "DQWI4qnuBe5E",
        "outputId": "ea035e52-c347-4463-e47e-0abc2e7e273a"
      },
      "execution_count": 25,
      "outputs": [
        {
          "output_type": "stream",
          "name": "stdout",
          "text": [
            "Final Sorted List (using return with MapReduce): [1, 2, 4, 6, 8, 9, 10, 11, 14, 15, 16, 17, 19, 23, 24, 25, 26, 27, 29, 30, 31, 33, 34, 36, 37, 38, 39, 41, 44, 45, 47, 48, 51, 53, 54, 55, 58, 60, 61, 62, 63, 64, 65, 66, 68, 70, 72, 73, 75, 76, 78, 80, 82, 83, 84, 85, 86, 87, 88, 89, 90, 91, 92, 94, 95, 96, 97, 100]\n",
            "Final Sorted List (using yield with MapReduce): [2, 3, 5, 11, 12, 13, 14, 16, 18, 20, 22, 23, 24, 25, 26, 27, 30, 31, 32, 33, 34, 35, 37, 38, 39, 41, 44, 47, 50, 53, 55, 56, 57, 58, 59, 61, 62, 63, 64, 65, 67, 68, 70, 71, 72, 73, 74, 75, 76, 77, 78, 79, 82, 83, 84, 85, 89, 91, 92, 94, 97, 98, 99, 100]\n"
          ]
        }
      ]
    }
  ]
}