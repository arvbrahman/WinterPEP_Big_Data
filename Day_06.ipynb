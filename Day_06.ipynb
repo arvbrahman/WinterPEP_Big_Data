{
  "nbformat": 4,
  "nbformat_minor": 0,
  "metadata": {
    "colab": {
      "provenance": []
    },
    "kernelspec": {
      "name": "python3",
      "display_name": "Python 3"
    },
    "language_info": {
      "name": "python"
    }
  },
  "cells": [
    {
      "cell_type": "code",
      "execution_count": null,
      "metadata": {
        "colab": {
          "base_uri": "https://localhost:8080/"
        },
        "id": "pO4gy4yjNIE8",
        "outputId": "4842e929-7cf2-4e59-f480-c0607d5d1aee"
      },
      "outputs": [
        {
          "output_type": "stream",
          "name": "stdout",
          "text": [
            "Top 10 Words by Frequency:\n",
            "data: 1985\n",
            "big: 1016\n",
            "is: 1000\n",
            "crucial: 1000\n",
            "minimizes: 985\n",
            "optimization: 984\n",
            "costbig: 984\n",
            "optimiz: 16\n",
            "ation: 16\n",
            "cost: 16\n"
          ]
        }
      ],
      "source": [
        "import random\n",
        "from collections import defaultdict\n",
        "\n",
        "# Simulating a large dataset\n",
        "large_dataset = \"big data optimization is crucial big data minimizes cost \".strip() * 1000\n",
        "\n",
        "# Mapper function\n",
        "def mapper(input_chunk):\n",
        "    words = input_chunk.split()\n",
        "    return [(word.lower(), 1) for word in words]\n",
        "\n",
        "# Combiner function\n",
        "def combiner(mapped_data):\n",
        "    combined_data = defaultdict(int)\n",
        "    for key, value in mapped_data:\n",
        "        combined_data[key] += value\n",
        "    return list(combined_data.items())\n",
        "\n",
        "# Partition function\n",
        "def partition_data(mapped_data, num_partitions):\n",
        "    partitions = [[] for _ in range(num_partitions)]\n",
        "    for key, value in mapped_data:\n",
        "        partition_index = hash(key) % num_partitions\n",
        "        partitions[partition_index].append((key, value))\n",
        "    return partitions\n",
        "\n",
        "# Reducer function\n",
        "def reducer(partition):\n",
        "    reduced_data = defaultdict(int)\n",
        "    for key, value in partition:\n",
        "        reduced_data[key] += value\n",
        "    return reduced_data\n",
        "\n",
        "# Simulating optimization with tuned parameters\n",
        "chunk_size = 512\n",
        "num_partitions = 4\n",
        "\n",
        "# Step 1: Divide dataset into chunks\n",
        "chunks = [large_dataset[i:i + chunk_size] for i in range(0, len(large_dataset), chunk_size)]\n",
        "\n",
        "# Step 2: Apply mapper and combiner for each chunk\n",
        "mapped_data = []\n",
        "for chunk in chunks:\n",
        "    chunk_mapped = mapper(chunk)\n",
        "    combined_chunk = combiner(chunk_mapped)  # Local combining\n",
        "    mapped_data.extend(combined_chunk)\n",
        "\n",
        "# Step 3: Partitioning\n",
        "partitions = partition_data(mapped_data, num_partitions)\n",
        "\n",
        "# Step 4: Reduce phase\n",
        "final_result = defaultdict(int)\n",
        "for partition in partitions:\n",
        "    reduced_partition = reducer(partition)\n",
        "    for key, value in reduced_partition.items():\n",
        "        final_result[key] += value\n",
        "\n",
        "# Display optimized results\n",
        "sorted_results = sorted(final_result.items(), key=lambda x: x[1], reverse=True)\n",
        "\n",
        "print(\"Top 10 Words by Frequency:\")\n",
        "for word, count in sorted_results[:10]:\n",
        "    print(f\"{word}: {count}\")"
      ]
    }
  ]
}