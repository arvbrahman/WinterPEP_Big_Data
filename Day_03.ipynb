{
  "cells": [
    {
      "cell_type": "code",
      "source": [
        "!apt-get update\n",
        "!apt-get install openjdk-8-jdk-headless -qq > /dev/null\n",
        "!pip install pyspark\n",
        "\n",
        "\n",
        "import os\n",
        "os.environ[\"JAVA_HOME\"] = \"/usr/lib/jvm/java-8-openjdk-amd64\"\n",
        "os.environ[\"PATH\"] = os.environ[\"JAVA_HOME\"] + \"/bin:\" + os.environ[\"PATH\"]\n",
        "\n",
        "\n",
        "!wget https://archive.apache.org/dist/hadoop/core/hadoop-2.7.7/hadoop-2.7.7.tar.gz\n",
        "!tar -xvzf hadoop-2.7.7.tar.gz\n",
        "!mv hadoop-2.7.7 hadoop\n",
        "\n",
        "# Configure Hadoop\n",
        "os.environ[\"HADOOP_HOME\"] = \"/content/hadoop\"\n",
        "os.environ[\"PATH\"] += \":/content/hadoop/bin\"\n",
        "\n",
        "\n",
        "# Write core-site.xml using Python file handling\n",
        "core_site_config = \"\"\"\n",
        "<configuration>\n",
        "  <property>\n",
        "    <name>fs.defaultFS</name>\n",
        "    <value>file:///</value>\n",
        "  </property>\n",
        "</configuration>\n",
        "\"\"\"\n",
        "\n",
        "with open(\"/content/hadoop/etc/hadoop/core-site.xml\", \"w\") as file:\n",
        "    file.write(core_site_config)\n",
        "\n",
        "\n"
      ],
      "metadata": {
        "colab": {
          "base_uri": "https://localhost:8080/"
        },
        "id": "Q9gTbWCKlK2_",
        "outputId": "6b0d5398-5978-4a6d-8734-bf4ec9f5f081"
      },
      "execution_count": null,
      "outputs": [
        {
          "metadata": {
            "tags": null
          },
          "name": "stdout",
          "output_type": "stream",
          "text": [
            "shell-init: error retrieving current directory: getcwd: cannot access parent directories: No such file or directory\n",
            "Hit:1 https://developer.download.nvidia.com/compute/cuda/repos/ubuntu2204/x86_64  InRelease\n",
            "Hit:2 https://cloud.r-project.org/bin/linux/ubuntu jammy-cran40/ InRelease\n",
            "Hit:3 http://archive.ubuntu.com/ubuntu jammy InRelease\n",
            "Hit:4 http://archive.ubuntu.com/ubuntu jammy-updates InRelease\n",
            "Hit:5 http://security.ubuntu.com/ubuntu jammy-security InRelease\n",
            "Hit:6 https://r2u.stat.illinois.edu/ubuntu jammy InRelease\n",
            "Hit:7 http://archive.ubuntu.com/ubuntu jammy-backports InRelease\n",
            "Hit:8 https://ppa.launchpadcontent.net/deadsnakes/ppa/ubuntu jammy InRelease\n",
            "Hit:9 https://ppa.launchpadcontent.net/graphics-drivers/ppa/ubuntu jammy InRelease\n",
            "Hit:10 https://ppa.launchpadcontent.net/ubuntugis/ppa/ubuntu jammy InRelease\n",
            "Reading package lists... Done\n",
            "W: Skipping acquire of configured file 'main/source/Sources' as repository 'https://r2u.stat.illinois.edu/ubuntu jammy InRelease' does not seem to provide it (sources.list entry misspelt?)\n",
            "shell-init: error retrieving current directory: getcwd: cannot access parent directories: No such file or directory\n",
            "shell-init: error retrieving current directory: getcwd: cannot access parent directories: No such file or directory\n",
            "shell-init: error retrieving current directory: getcwd: cannot access parent directories: No such file or directory\n",
            "The folder you are executing pip from can no longer be found.\n",
            "shell-init: error retrieving current directory: getcwd: cannot access parent directories: No such file or directory\n",
            "--2025-01-17 09:25:23--  https://archive.apache.org/dist/hadoop/core/hadoop-2.7.7/hadoop-2.7.7.tar.gz\n",
            "Resolving archive.apache.org (archive.apache.org)... 65.108.204.189, 2a01:4f9:1a:a084::2\n",
            "Connecting to archive.apache.org (archive.apache.org)|65.108.204.189|:443... connected.\n",
            "HTTP request sent, awaiting response... 200 OK\n",
            "Length: 218720521 (209M) [application/x-gzip]\n",
            "hadoop-2.7.7.tar.gz: No such file or directory\n",
            "\n",
            "Cannot write to ‘hadoop-2.7.7.tar.gz’ (Success).\n",
            "shell-init: error retrieving current directory: getcwd: cannot access parent directories: No such file or directory\n",
            "tar (child): hadoop-2.7.7.tar.gz: Cannot open: No such file or directory\n",
            "tar (child): Error is not recoverable: exiting now\n",
            "tar: Child returned status 2\n",
            "tar: Error is not recoverable: exiting now\n",
            "shell-init: error retrieving current directory: getcwd: cannot access parent directories: No such file or directory\n",
            "mv: cannot stat 'hadoop-2.7.7': No such file or directory\n"
          ]
        }
      ]
    },
    {
      "cell_type": "code",
      "execution_count": null,
      "metadata": {
        "colab": {
          "base_uri": "https://localhost:8080/"
        },
        "id": "S4W4qI8Wpvi2",
        "outputId": "c3204477-f210-4a62-8a73-06d76c919340"
      },
      "outputs": [
        {
          "output_type": "stream",
          "name": "stdout",
          "text": [
            "shell-init: error retrieving current directory: getcwd: cannot access parent directories: No such file or directory\n",
            "/bin/bash: line 1: hdfs: command not found\n"
          ]
        }
      ],
      "source": [
        "!hdfs namenode -format"
      ]
    },
    {
      "cell_type": "code",
      "execution_count": null,
      "metadata": {
        "colab": {
          "base_uri": "https://localhost:8080/"
        },
        "id": "fnit5oswqcYp",
        "outputId": "b071c2c5-c295-422d-b047-fcadcd9e956a"
      },
      "outputs": [
        {
          "output_type": "stream",
          "name": "stdout",
          "text": [
            "shell-init: error retrieving current directory: getcwd: cannot access parent directories: No such file or directory\n",
            "/bin/bash: line 1: hdfs: command not found\n"
          ]
        }
      ],
      "source": [
        "!hdfs datanode -format"
      ]
    },
    {
      "cell_type": "markdown",
      "metadata": {
        "id": "Lr8Pi580vsE4"
      },
      "source": [
        "#MKDIR - Making directories"
      ]
    },
    {
      "cell_type": "code",
      "execution_count": null,
      "metadata": {
        "id": "utHE-Pqcur2u",
        "colab": {
          "base_uri": "https://localhost:8080/"
        },
        "outputId": "09e5db67-a481-4409-ed6e-5022ecc0018e"
      },
      "outputs": [
        {
          "output_type": "stream",
          "name": "stdout",
          "text": [
            "shell-init: error retrieving current directory: getcwd: cannot access parent directories: No such file or directory\n",
            "/bin/bash: line 1: hdfs: command not found\n",
            "shell-init: error retrieving current directory: getcwd: cannot access parent directories: No such file or directory\n",
            "/bin/bash: line 1: hdfs: command not found\n"
          ]
        }
      ],
      "source": [
        "!hdfs dfs -mkdir /Big_data\n",
        "!hdfs dfs -mkdir /Directory /Abhishek /My_Dir"
      ]
    },
    {
      "cell_type": "markdown",
      "metadata": {
        "id": "Q6vGNF_AwfbE"
      },
      "source": [
        "#PUT - Puts data inside directories"
      ]
    },
    {
      "cell_type": "code",
      "execution_count": null,
      "metadata": {
        "colab": {
          "base_uri": "https://localhost:8080/"
        },
        "id": "wVQmaGXyvyMo",
        "outputId": "3b7d40f3-0fff-4c59-b9bc-a2131567962c"
      },
      "outputs": [
        {
          "output_type": "stream",
          "name": "stdout",
          "text": [
            "shell-init: error retrieving current directory: getcwd: cannot access parent directories: No such file or directory\n",
            "/bin/bash: line 1: hdfs: command not found\n",
            "shell-init: error retrieving current directory: getcwd: cannot access parent directories: No such file or directory\n",
            "/bin/bash: line 1: hdfs: command not found\n"
          ]
        }
      ],
      "source": [
        "!hdfs dfs -put /content/taxi_zones.json /content/taxi_zones.csv /Big_data\n",
        "!hdfs dfs -put /content/download.jpg /Abhishek"
      ]
    },
    {
      "cell_type": "markdown",
      "metadata": {
        "id": "xcf6AJowxTSz"
      },
      "source": [
        "# Other commands"
      ]
    },
    {
      "cell_type": "code",
      "execution_count": null,
      "metadata": {
        "colab": {
          "base_uri": "https://localhost:8080/"
        },
        "id": "g9M8eXsTxUDX",
        "outputId": "766e511e-d076-4d83-912e-869bec5977c8"
      },
      "outputs": [
        {
          "output_type": "stream",
          "name": "stdout",
          "text": [
            "shell-init: error retrieving current directory: getcwd: cannot access parent directories: No such file or directory\n",
            "/bin/bash: line 1: hdfs: command not found\n"
          ]
        }
      ],
      "source": [
        "!hdfs dfs -ls /Big_data /Abhishek"
      ]
    },
    {
      "cell_type": "code",
      "execution_count": null,
      "metadata": {
        "id": "WoZLYw-8zBmP",
        "colab": {
          "base_uri": "https://localhost:8080/"
        },
        "outputId": "b517bda9-6e1d-430d-ecab-4a480c7ceb53"
      },
      "outputs": [
        {
          "output_type": "stream",
          "name": "stdout",
          "text": [
            "shell-init: error retrieving current directory: getcwd: cannot access parent directories: No such file or directory\n",
            "/bin/bash: line 1: hdfs: command not found\n"
          ]
        }
      ],
      "source": [
        "# Removing an empty directory\n",
        "!hdfs dfs -rmdir /My_Dir"
      ]
    },
    {
      "cell_type": "code",
      "execution_count": null,
      "metadata": {
        "id": "wfUFLpogzzTN",
        "colab": {
          "base_uri": "https://localhost:8080/"
        },
        "outputId": "066684d4-a22d-44e9-b2a7-ac270e3e286a"
      },
      "outputs": [
        {
          "output_type": "stream",
          "name": "stdout",
          "text": [
            "shell-init: error retrieving current directory: getcwd: cannot access parent directories: No such file or directory\n",
            "/bin/bash: line 1: hdfs: command not found\n"
          ]
        }
      ],
      "source": [
        "# Creating empty file\n",
        "!hdfs dfs -touchz /Big_data/file.txt"
      ]
    },
    {
      "cell_type": "code",
      "execution_count": null,
      "metadata": {
        "colab": {
          "base_uri": "https://localhost:8080/"
        },
        "collapsed": true,
        "id": "Qepny-Sj0JTV",
        "outputId": "90c2c443-8e0e-4aa1-d8aa-6ce1dd485fe0"
      },
      "outputs": [
        {
          "output_type": "stream",
          "name": "stdout",
          "text": [
            "shell-init: error retrieving current directory: getcwd: cannot access parent directories: No such file or directory\n",
            "/bin/bash: line 1: hdfs: command not found\n"
          ]
        }
      ],
      "source": [
        "!hdfs dfs -cat /Big_data/taxi_zones.csv"
      ]
    },
    {
      "cell_type": "code",
      "execution_count": null,
      "metadata": {
        "id": "Vams2-k70vr8",
        "colab": {
          "base_uri": "https://localhost:8080/"
        },
        "outputId": "18d3c090-47eb-424e-9a5d-bd4f772a8c89"
      },
      "outputs": [
        {
          "output_type": "stream",
          "name": "stdout",
          "text": [
            "shell-init: error retrieving current directory: getcwd: cannot access parent directories: No such file or directory\n",
            "/bin/bash: line 1: hdfs: command not found\n"
          ]
        }
      ],
      "source": [
        "!hdfs dfs -put /Abhishek"
      ]
    },
    {
      "cell_type": "code",
      "execution_count": null,
      "metadata": {
        "colab": {
          "base_uri": "https://localhost:8080/"
        },
        "id": "vcB82n_P1DDa",
        "outputId": "4baff4f9-e29c-4988-8f9c-30b475d3e2f3"
      },
      "outputs": [
        {
          "output_type": "stream",
          "name": "stdout",
          "text": [
            "shell-init: error retrieving current directory: getcwd: cannot access parent directories: No such file or directory\n",
            "/bin/bash: line 1: hdfs: command not found\n"
          ]
        }
      ],
      "source": [
        "# Copying file\n",
        "!hdfs dfs -cp /content/S-file1.txt /Big_data"
      ]
    },
    {
      "cell_type": "code",
      "execution_count": null,
      "metadata": {
        "colab": {
          "base_uri": "https://localhost:8080/"
        },
        "id": "miyjeRqj1RQF",
        "outputId": "5df384d1-3c69-4f1c-dfa9-0baa0cb19129"
      },
      "outputs": [
        {
          "output_type": "stream",
          "name": "stdout",
          "text": [
            "shell-init: error retrieving current directory: getcwd: cannot access parent directories: No such file or directory\n",
            "/bin/bash: line 1: hdfs: command not found\n"
          ]
        }
      ],
      "source": [
        "!hdfs dfs -ls /Big_data"
      ]
    },
    {
      "cell_type": "code",
      "execution_count": null,
      "metadata": {
        "colab": {
          "base_uri": "https://localhost:8080/"
        },
        "id": "ADzsUme01ghH",
        "outputId": "8f2e915e-86b7-4aab-f9b7-1e98470cfcfe"
      },
      "outputs": [
        {
          "output_type": "stream",
          "name": "stdout",
          "text": [
            "shell-init: error retrieving current directory: getcwd: cannot access parent directories: No such file or directory\n",
            "/bin/bash: line 1: hdfs: command not found\n",
            "shell-init: error retrieving current directory: getcwd: cannot access parent directories: No such file or directory\n",
            "/bin/bash: line 1: hdfs: command not found\n"
          ]
        }
      ],
      "source": [
        "!hdfs dfs -mkdir /LPU\n",
        "!hdfs dfs -mv /content/S-file1.txt /LPU"
      ]
    },
    {
      "cell_type": "code",
      "execution_count": null,
      "metadata": {
        "id": "oNGQYsRj1wvf",
        "colab": {
          "base_uri": "https://localhost:8080/"
        },
        "outputId": "aa9344f0-a8da-4fae-c9ca-6a80e7f81752"
      },
      "outputs": [
        {
          "output_type": "stream",
          "name": "stdout",
          "text": [
            "shell-init: error retrieving current directory: getcwd: cannot access parent directories: No such file or directory\n",
            "/bin/bash: line 1: hdfs: command not found\n"
          ]
        }
      ],
      "source": [
        "!hdfs dfs -ls /LPU"
      ]
    },
    {
      "cell_type": "code",
      "execution_count": null,
      "metadata": {
        "colab": {
          "base_uri": "https://localhost:8080/"
        },
        "id": "de2vP0b82JFX",
        "outputId": "3731a1d1-4923-4d12-834e-b6ba3cdbab2e"
      },
      "outputs": [
        {
          "output_type": "stream",
          "name": "stdout",
          "text": [
            "shell-init: error retrieving current directory: getcwd: cannot access parent directories: No such file or directory\n",
            "/bin/bash: line 1: hdfs: command not found\n"
          ]
        }
      ],
      "source": [
        "#To check the disk usage of files\n",
        "!hdfs dfs -du -h /Big_data"
      ]
    },
    {
      "cell_type": "code",
      "execution_count": null,
      "metadata": {
        "colab": {
          "base_uri": "https://localhost:8080/"
        },
        "id": "Z1Qbh-zMeBvc",
        "outputId": "2aeb665b-2619-4c8c-9840-e19ca1917cb8"
      },
      "outputs": [
        {
          "output_type": "stream",
          "name": "stdout",
          "text": [
            "shell-init: error retrieving current directory: getcwd: cannot access parent directories: No such file or directory\n",
            "/bin/bash: line 1: hdfs: command not found\n"
          ]
        }
      ],
      "source": [
        "#To check the used storage for a directories\n",
        "!hdfs dfs -dus /Big_data"
      ]
    },
    {
      "cell_type": "code",
      "execution_count": null,
      "metadata": {
        "colab": {
          "base_uri": "https://localhost:8080/"
        },
        "id": "iAfnB9ILfeae",
        "outputId": "9e9f31ee-d53d-40be-f0f2-8bf1e14761a7"
      },
      "outputs": [
        {
          "output_type": "stream",
          "name": "stdout",
          "text": [
            "shell-init: error retrieving current directory: getcwd: cannot access parent directories: No such file or directory\n",
            "/bin/bash: line 1: hdfs: command not found\n"
          ]
        }
      ],
      "source": [
        "#To check the total available storage\n",
        "!hdfs dfs -df /Big_data"
      ]
    },
    {
      "cell_type": "code",
      "execution_count": null,
      "metadata": {
        "colab": {
          "base_uri": "https://localhost:8080/"
        },
        "id": "w61iJb6Jf_g4",
        "outputId": "4422844c-dab8-46d9-f614-63c704d9d3b1"
      },
      "outputs": [
        {
          "output_type": "stream",
          "name": "stdout",
          "text": [
            "shell-init: error retrieving current directory: getcwd: cannot access parent directories: No such file or directory\n",
            "Error occurred during initialization of VM\n",
            "java.lang.Error: Properties init: Could not determine current working directory.\n",
            "\tat java.lang.System.initProperties(Native Method)\n",
            "\tat java.lang.System.initializeSystemClass(System.java:1180)\n",
            "\n"
          ]
        }
      ],
      "source": [
        "#To check the localhost\n",
        "!jps"
      ]
    },
    {
      "cell_type": "code",
      "execution_count": null,
      "metadata": {
        "colab": {
          "base_uri": "https://localhost:8080/"
        },
        "id": "vnA_AzY4gAh2",
        "outputId": "325e010b-460e-400a-854a-4e7c69d03d3f"
      },
      "outputs": [
        {
          "output_type": "stream",
          "name": "stdout",
          "text": [
            "shell-init: error retrieving current directory: getcwd: cannot access parent directories: No such file or directory\n",
            "/bin/bash: line 1: hdfs: command not found\n"
          ]
        }
      ],
      "source": [
        "!hdfs dfs -rm /content/download.jpg"
      ]
    },
    {
      "cell_type": "code",
      "execution_count": null,
      "metadata": {
        "colab": {
          "base_uri": "https://localhost:8080/"
        },
        "id": "5bI4OFXWhQIa",
        "outputId": "6ef84868-3580-4861-a5fe-eeae84c26d06"
      },
      "outputs": [
        {
          "output_type": "stream",
          "name": "stdout",
          "text": [
            "shell-init: error retrieving current directory: getcwd: cannot access parent directories: No such file or directory\n",
            "/bin/bash: line 1: hdfs: command not found\n"
          ]
        }
      ],
      "source": [
        "!hdfs dfs -rm -r /content"
      ]
    },
    {
      "cell_type": "code",
      "execution_count": null,
      "metadata": {
        "colab": {
          "base_uri": "https://localhost:8080/"
        },
        "id": "yYiBQhRoiXjZ",
        "outputId": "40e89b88-9d40-4738-f026-ab427aef1607"
      },
      "outputs": [
        {
          "output_type": "stream",
          "name": "stdout",
          "text": [
            "shell-init: error retrieving current directory: getcwd: cannot access parent directories: No such file or directory\n",
            "/bin/bash: line 1: hdfs: command not found\n"
          ]
        }
      ],
      "source": [
        "!hdfs dfs -tail"
      ]
    },
    {
      "cell_type": "code",
      "execution_count": null,
      "metadata": {
        "id": "UFQEJomWia9x"
      },
      "outputs": [],
      "source": [
        "!hdfs dfs -expunge"
      ]
    },
    {
      "cell_type": "code",
      "source": [
        "!hdfs dfsadmin -report"
      ],
      "metadata": {
        "id": "QgTiXZUJoTSQ"
      },
      "execution_count": null,
      "outputs": []
    }
  ],
  "metadata": {
    "colab": {
      "provenance": []
    },
    "kernelspec": {
      "display_name": "Python 3",
      "name": "python3"
    },
    "language_info": {
      "name": "python"
    }
  },
  "nbformat": 4,
  "nbformat_minor": 0
}